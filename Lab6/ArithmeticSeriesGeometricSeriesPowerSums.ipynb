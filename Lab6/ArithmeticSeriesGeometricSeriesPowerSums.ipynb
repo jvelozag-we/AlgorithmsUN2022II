{
  "nbformat": 4,
  "nbformat_minor": 0,
  "metadata": {
    "colab": {
      "provenance": [],
      "collapsed_sections": [
        "R-J4EekBNPkd"
      ],
      "include_colab_link": true
    },
    "kernelspec": {
      "name": "python3",
      "display_name": "Python 3"
    }
  },
  "cells": [
    {
      "cell_type": "markdown",
      "metadata": {
        "id": "view-in-github",
        "colab_type": "text"
      },
      "source": [
        "<a href=\"https://colab.research.google.com/github/jvelozag-we/AlgorithmsUN2022II/blob/main/Lab6/ArithmeticSeriesGeometricSeriesPowerSums.ipynb\" target=\"_parent\"><img src=\"https://colab.research.google.com/assets/colab-badge.svg\" alt=\"Open In Colab\"/></a>"
      ]
    },
    {
      "cell_type": "markdown",
      "metadata": {
        "id": "r4rXWI4gCN5B"
      },
      "source": [
        "# Arithmetic Series\n",
        "\n",
        "## Modified from Arithmetic Series -  [Wolfram MathWorld](https://mathworld.wolfram.com/ArithmeticSeries.html) - [wikipedia](https://en.wikipedia.org/wiki/Arithmetic_progression)\n",
        "\n",
        "\n",
        "An arithmetic sequence $\\{a_k\\}$ for $k=1, 2, ..., $ in which each term is computed from the previous one by adding (or subtracting) a constant $d$. \n",
        "\n",
        "\\begin{align*}\n",
        "a_1 & \\\\\n",
        "a_2 &\\ \\ =\\ \\ a_1 + d  \\\\\n",
        "a_3 &\\ \\ =\\ \\ a_2 + d \\ \\ =\\ \\ a_1 + 2d   \\\\\n",
        "a_4 &\\ \\ =\\ \\ a_3 + d \\ \\ =\\ \\ a_2 + 2d \\ \\ =\\ \\ a_1 + 3d  \\\\\n",
        "\\vdots\\\\\n",
        "a_k &\\ \\ =\\ \\ a_{(k-1)}+d \\ =\\  a_{(k-2)}+2d \\ =\\  \\ldots \\ =\\  \\ a_1+(k-1)d\n",
        "\\end{align*}\n",
        "\n",
        "Therefore, for $k>=1$,\n",
        "\n",
        "$$ a_k = a_1 + (k-1)d$$\n",
        "\n",
        "With $a_1$ and $d$ given.\n",
        "\n",
        "<br /> \n",
        "\n",
        "The sequence of the partial sum of the first $n$ terms of a sequence is called a series, in the case of an arithemetic sequence the series is called an arithmetic series.\n",
        "\n",
        "If  $a_1= 1$ and $d=1$ we have, the simplest arithmnetic sequence,  the natural numbers sequence $\\{a_k = k \\}$ for  $k=1, 2, ..., $  i.e. the seuqnece\n",
        "$$1, 2, ...,$$\n",
        "The  corresponding series is \n",
        "$$ \n",
        "S_n = 1 + 2+ \\ldots + (n-1)+ n = \\sum_{k=1}^n k\n",
        "$$\n",
        "can be calculated as a function of $n$.\n",
        "\n",
        "Assume that we allign one $S_{n-1}$ with a second  $S_{n-1}$ that have the terms adden reverse order and you add term to term, we have\n",
        "\\begin{array}{llclclclclc}\n",
        "  S_{n-1} &=& 1 &+& 2 &+& \\ldots &+& (n-2) &+& (n-1) \\\\\n",
        "  S_{n-1} &=& (n-1)  &+& (n-2)  &+& \\ldots   &+& 2   &+& 1 \\\\\n",
        "   \\hline \\\\\n",
        "   2S_{n-1} &=& n  &+& n  &+& \\ldots   &+& n   &+& n \\\\\n",
        "\\end{array}\n",
        "so\n",
        "$$  2S_{n-1} = (n-1)n $$\n",
        "then\n",
        "$$  S_{n-1} = \\frac{1}{2} (n-1)n$$\n",
        "therefore \n",
        "$$  S_{n} = \\frac{1}{2} n(n+1)$$\n",
        "\n",
        "\n",
        "\\begin{align*}\n",
        "S_n &= \\sum_{k=1}^n a_k\t\\\\\n",
        "    &= \\sum_{k=1}^n[a_1+(k-1)d]\t\t\\\\\n",
        "    &= na_1 + d \\sum_{k=1}^n(k-1)\t\\\\\n",
        "    &= na_1 + d \\sum_{k=0}^{n-1} k\t\\\\\n",
        "    &= na_1 + d \\sum_{k=1}^{n-1} k\t\\\\\n",
        "    &= na_1 +  \\frac{1}{2} d(n-1)n\\\\\n",
        "\\end{align*}\n",
        "so \n",
        "$$ S_n =  \\frac{1}{2} n[2 a_1 +d(n-1)].$$\n",
        "\n",
        "Note, however, that\n",
        "$$a_1+a_n=a_1+[a_1+d(n-1)]=2a_1+d(n-1),$$ \t\n",
        "so\n",
        "$$S_n = \\frac{1}{2}n(a_1+a_n),$$\n",
        "\n",
        "\n",
        "or $n$ times the arithmetic mean of the first and last terms! This is the trick Gauss used as a schoolboy to solve the problem of summing the integers from $1$ to $100$ given as busy-work by his teacher. While his classmates toiled away doing the addition longhand, Gauss wrote a single number, the correct answer\n",
        "\n",
        "$$\\frac{1}{2}(100)(1+100)=50·101=5050$$ \t\n",
        "on his slate (Burton 1989, pp. 80-81; Hoffman 1998, p. 207). When the answers were examined, Gauss's proved to be the only correct one.\n",
        "\n",
        "<br /> \n",
        "\n",
        "If  the sequence starts at index $0$, $\\{a_k\\}$ for $ k=0, 1, 2, ..., $ we have\n",
        "\n",
        "\\begin{align*}\n",
        "a_0 & \\\\\n",
        "a_1 &\\ \\ =\\ \\ a_0 + d  \\\\\n",
        "a_2 &\\ \\ =\\ \\ a_1 + d \\ \\ =\\ \\ a_0 + 2d   \\\\\n",
        "a_3 &\\ \\ =\\ \\ a_2 + d \\ \\ =\\ \\ a_1 + 2d \\ \\ =\\ \\ a_0 + 3d  \\\\\n",
        "\\vdots\\\\\n",
        "a_k &\\ \\ =\\ \\ a_{(k-1)}+d \\ =\\  a_{(k-2)}+2d \\ =\\  \\ldots \\ = \\  \\ a_1+(k-1)d \\ \\ =\\ \\ a_0+kd\n",
        "\\end{align*}\n",
        "\n",
        "<br /> \n",
        "for given   $a_0$ and $d$.\n",
        "\n",
        "In this case the sum of the terms between $0$ and $n$ of  the arithemnetic sequence  is then given by\n",
        "\\begin{align*}\n",
        "S_n &= \\sum_{k=0}^{n} a_k\t\\\\\n",
        "    &= \\sum_{k=0}^{n}[a_0+kd]\t\t\\\\\n",
        "    &= (n+1) a_0 + d \\sum_{k=0}^{n} k\t\\\\\n",
        "    &= (n+1) a_0 + d \\sum_{k=1}^{} k\t\\\\\n",
        "    &=(n+1) a_0+  \\frac{1}{2} dn(n+1) \\\\\n",
        "\\end{align*}\n",
        "so \n",
        "$$ S_n =  \\frac{1}{2} (n+1)[2 a_0 + dn].$$\n",
        "<br /> \n",
        "$$ S_n =  \\frac{1}{2} (n+1)[a_0+ a_n].$$\n",
        "\n",
        "\n"
      ]
    },
    {
      "cell_type": "markdown",
      "metadata": {
        "id": "GfBh-QHRcods"
      },
      "source": [
        "### Code\n",
        "####  The simplest arithmetic sequence and series\n",
        "\n",
        "The simplest arithmnetic sequence is \n",
        "\n",
        "\n",
        "$$a_n = 1, 2, ...,$$"
      ]
    },
    {
      "cell_type": "markdown",
      "metadata": {
        "id": "n36eWqEXiktl"
      },
      "source": [
        "The following code plots the first $n = 15$ terms of the simplest arithmnetic sequence \n",
        "$$\\{a_n = n\\} \\text{ for } n =1,2,\\ldots  $$\n",
        "i.e\n",
        "$$\\{a_n = n\\} =1,2,\\ldots $$\n",
        "adn the corresponding terms of the simplest arithmnetic series \n",
        "$$  S_n = 1 + 2+ \\ldots + (n-1)+ n = \\sum_{k=1}^n k=  \\frac{1}{2} n(n+1)$$\n"
      ]
    },
    {
      "cell_type": "markdown",
      "metadata": {
        "id": "_VyGiunIZknK"
      },
      "source": [
        "Plot"
      ]
    },
    {
      "cell_type": "code",
      "metadata": {
        "colab": {
          "base_uri": "https://localhost:8080/",
          "height": 282
        },
        "id": "gx3Q4uo-ONCi",
        "outputId": "3b7878ab-ba77-4dd6-e462-e86d11c13565"
      },
      "source": [
        "import matplotlib.pyplot as plt\n",
        "\n",
        "n = 15\n",
        "S_n = 0\n",
        "Serie_S_n=[]\n",
        "Sequence_a_n =[]\n",
        "for i in range(1,n+1):\n",
        "  S_n = S_n + i\n",
        "  Serie_S_n.append(S_n)\n",
        "  Sequence_a_n.append(i)\n",
        " \n",
        "\n",
        "plt.plot(Serie_S_n, color='black',label='Serie_S_n')\n",
        "plt.plot(Sequence_a_n, color='red',label='Sequence_a_n')\n",
        "plt.legend()\n",
        "\n",
        "\n"
      ],
      "execution_count": null,
      "outputs": [
        {
          "output_type": "execute_result",
          "data": {
            "text/plain": [
              "<matplotlib.legend.Legend at 0x7ffa3c49d750>"
            ]
          },
          "metadata": {},
          "execution_count": 1
        },
        {
          "output_type": "display_data",
          "data": {
            "text/plain": [
              "<Figure size 432x288 with 1 Axes>"
            ],
            "image/png": "[encoded data removed]"
          },
          "metadata": {
            "needs_background": "light"
          }
        }
      ]
    },
    {
      "cell_type": "code",
      "metadata": {
        "colab": {
          "base_uri": "https://localhost:8080/"
        },
        "id": "o2es6b4cysQk",
        "outputId": "fa11fe78-8801-4451-81c3-cbae808750d0"
      },
      "source": [
        "Sequence_a_n"
      ],
      "execution_count": null,
      "outputs": [
        {
          "output_type": "execute_result",
          "data": {
            "text/plain": [
              "[1, 2, 3, 4, 5, 6, 7, 8, 9, 10, 11, 12, 13, 14, 15]"
            ]
          },
          "metadata": {},
          "execution_count": 2
        }
      ]
    },
    {
      "cell_type": "code",
      "metadata": {
        "colab": {
          "base_uri": "https://localhost:8080/"
        },
        "id": "T2VeBOBZ0ibg",
        "outputId": "260a6fc2-bec6-4317-b7d7-b675cb30b8a6"
      },
      "source": [
        "Serie_S_n"
      ],
      "execution_count": null,
      "outputs": [
        {
          "output_type": "execute_result",
          "data": {
            "text/plain": [
              "[1, 3, 6, 10, 15, 21, 28, 36, 45, 55, 66, 78, 91, 105, 120]"
            ]
          },
          "metadata": {},
          "execution_count": 3
        }
      ]
    },
    {
      "cell_type": "markdown",
      "metadata": {
        "id": "0ybfJdHxZGvW"
      },
      "source": [
        "The following code computes the  $n=10000000$  term of the airthmetic series\n",
        "$$  S_n = 1 + 2+ \\ldots + (n-1)+ n = \\sum_{k=1}^n =  \\frac{1}{2} n(n+1)$$"
      ]
    },
    {
      "cell_type": "code",
      "metadata": {
        "colab": {
          "base_uri": "https://localhost:8080/"
        },
        "id": "99xYHDQycnol",
        "outputId": "b9df02cc-93e9-4c1c-b6a0-8ac238f4ed40"
      },
      "source": [
        "n = 10000000\n",
        "S_n = 0\n",
        "for i in range(1,n+1):  # range(n+1) goes form 1 to n\n",
        "  S_n = S_n + i \n",
        "print(S_n)"
      ],
      "execution_count": null,
      "outputs": [
        {
          "output_type": "stream",
          "name": "stdout",
          "text": [
            "50000005000000\n"
          ]
        }
      ]
    },
    {
      "cell_type": "code",
      "metadata": {
        "colab": {
          "base_uri": "https://localhost:8080/"
        },
        "id": "RGCSuDGHeFwH",
        "outputId": "66cbcddb-6415-4390-a87e-0ff410665b8a"
      },
      "source": [
        "(1/2)*n*(n+1)"
      ],
      "execution_count": null,
      "outputs": [
        {
          "output_type": "execute_result",
          "data": {
            "text/plain": [
              "50000005000000.0"
            ]
          },
          "metadata": {},
          "execution_count": 5
        }
      ]
    },
    {
      "cell_type": "markdown",
      "metadata": {
        "id": "bg8zxAhcecpk"
      },
      "source": [
        "The following code computes the $n=10000000$ term of the airthmetic series \n",
        "$$ S_n  = \\sum_{k=1}^n a_k$$\n",
        "\n",
        "<br /> \n",
        "for the airthmetic sequence $a_k = 10 + 3 (k-1) $ for $k=1,2,\\ldots$\n",
        "\n",
        "<br /> \n",
        "$$ 10,13,16,19,21,\\ldots$$\n"
      ]
    },
    {
      "cell_type": "markdown",
      "metadata": {
        "id": "hg3ixQ3bZiVh"
      },
      "source": [
        "Plot"
      ]
    },
    {
      "cell_type": "code",
      "metadata": {
        "colab": {
          "base_uri": "https://localhost:8080/"
        },
        "id": "w8FP1XqSgnie",
        "outputId": "38922802-de88-45a0-db6e-64e11b6a4046"
      },
      "source": [
        "n = 10000000\n",
        "a = 10\n",
        "d = 3\n",
        "S_n = 0\n",
        "for i in range(1,n+1):  # range(n+19 goes form 1 to n\n",
        "  a_n = a + d * (i-1) \n",
        "  S_n = S_n + a_n\n",
        "print(S_n)"
      ],
      "execution_count": null,
      "outputs": [
        {
          "output_type": "stream",
          "name": "stdout",
          "text": [
            "150000085000000\n"
          ]
        }
      ]
    },
    {
      "cell_type": "code",
      "metadata": {
        "colab": {
          "base_uri": "https://localhost:8080/"
        },
        "id": "g_38RfB_hgg2",
        "outputId": "c7ebbd5e-ab71-4672-8825-e19c83737fc0"
      },
      "source": [
        "n*(2*a +d*(n-1))/2"
      ],
      "execution_count": null,
      "outputs": [
        {
          "output_type": "execute_result",
          "data": {
            "text/plain": [
              "150000085000000.0"
            ]
          },
          "metadata": {},
          "execution_count": 7
        }
      ]
    },
    {
      "cell_type": "code",
      "metadata": {
        "colab": {
          "base_uri": "https://localhost:8080/"
        },
        "id": "zS3qb_xE1u58",
        "outputId": "6cad6c1c-e038-40ec-ff31-4614116c40d9"
      },
      "source": [
        "n*(a +a_n)/2"
      ],
      "execution_count": null,
      "outputs": [
        {
          "output_type": "execute_result",
          "data": {
            "text/plain": [
              "150000085000000.0"
            ]
          },
          "metadata": {},
          "execution_count": 8
        }
      ]
    },
    {
      "cell_type": "code",
      "metadata": {
        "colab": {
          "base_uri": "https://localhost:8080/",
          "height": 284
        },
        "id": "7qesKez70zub",
        "outputId": "adb09d4d-d27f-40f9-c1f8-4891888a781a"
      },
      "source": [
        "import matplotlib.pyplot as plt\n",
        "\n",
        "n = 20\n",
        "a = 10\n",
        "d = 3\n",
        "S_n = 0\n",
        "Serie_S_n=[]\n",
        "Sequence_a_n =[]\n",
        "for i in range(1,n+1):  # range(n+19 goes form 1 to n\n",
        "  a_n = a + d * (i-1) \n",
        "  S_n = S_n + a_n\n",
        "  Serie_S_n.append(S_n)\n",
        "  Sequence_a_n.append(a_n)\n",
        "\n",
        "plt.plot(Serie_S_n, color='black',label='Serie_S_n')\n",
        "plt.plot(Sequence_a_n, color='red',label='Sequence_a_n')\n",
        "plt.legend()"
      ],
      "execution_count": null,
      "outputs": [
        {
          "output_type": "execute_result",
          "data": {
            "text/plain": [
              "<matplotlib.legend.Legend at 0x7ffa3c42c0d0>"
            ]
          },
          "metadata": {},
          "execution_count": 9
        },
        {
          "output_type": "display_data",
          "data": {
            "text/plain": [
              "<Figure size 432x288 with 1 Axes>"
            ],
            "image/png": "[encoded data removed]"
          },
          "metadata": {
            "needs_background": "light"
          }
        }
      ]
    },
    {
      "cell_type": "markdown",
      "metadata": {
        "id": "r9qzONSlZq2q"
      },
      "source": [
        "## Your own example of arithmetic series "
      ]
    },
    {
      "cell_type": "markdown",
      "source": [
        "##Example 1"
      ],
      "metadata": {
        "id": "unYNsdPugD2C"
      }
    },
    {
      "cell_type": "markdown",
      "source": [
        "![CodeCogsEqn (2).gif](data:image/gif;base64,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)"
      ],
      "metadata": {
        "id": "G9e2d-RFpkeC"
      }
    },
    {
      "cell_type": "markdown",
      "source": [
        "![CodeCogsEqn (3).gif](data:image/gif;base64,R0lGODdhbQIhALMAAP///wAAANzc3HZ2diIiIhAQEDIyMoiIiERERGZmZu7u7piYmLq6uqqqqszMzFRUVCwAAAAAbQIhAAAE/hDISau9OOvNu/9gKI5kaZ5oqq5s61bN8c7go9B4ru987//AoHDoahiIOAfhhmQJBoRCwCCTIJrYrHbL7Xp1joLgmzocyaFD4TAGCBJHOBrzqGYaiDzCfsHr+Vl1GQkPDW0KDlBtMHp7WlABBIJ3jYCMf48EkZMWhIYSiIp9lXMkCgUNpRucFwgJqhwGBkwUC5oDsKFSuBkIBocPBIsUvsDCTboBvBcPAc7PzqkWxaDBw0ECBgs3Ds0EDq2/1cfT4gAK1kjZ2wDdkeAVzdDP0hXU5+mwHglX+hTJyy4ICADPn70CtCpoYqAqQAEECwwoy/AAYQUDBCxUTAgAIxKH/hAlBow3L8CDaxI2Xsw4RAG5CQOcXVNJwWM8izVZCnF5LWaAmSVPMsM5wabBDA4CMDwKMuJEDQ/OHJXQIEC9TgGOInhqgQHXCVUDeh0JIKwJcyi2kp1QiMGBAww4ThhrwWwJtCISXJ0gRSoAujC+AqZglwTeEHov9I3XwC1cuRIGg/065PCIYFPtUbaQdO8IyzskQpawoJ8/tXSUXnBIodnSCqxLEFSBmk5BqKotxCYxm0QBDAecvXa9+jfb3LCN874dQnmF4MgBPGCe+jWF3UR6lxi4IDOxzRYMmJZNfQd2Cwsslaqt+6di5DLfWw+h/QR7jeXbowQgZT6I+iAk/hVdZM4sE58F/U1wYAUJLkeCgP559dV0HSxIQYPZ5fdBcKOdBl4FMXXoAYA8WFjBAhqScd9czmAgURUSuhiAeiOmCMKKrdn4V4sXvEgeCVWZxJkzr+yYVY8zEnhkeEk6OEKQDwwZQJEp6RgjkjT6QGIIBjjnHY5dBdCdCVvqsJh3rYAXnJcTbBUlAGti4OaPKYBZJQdxpvnmCGVyoECXETpTRZ7TCAnneW0ayqeOGPxZQKBN3rkBoZrtOUSfHSigKJp2/rPpokFAV0ACcaGZ6FoxsWlFAP2kKierdKb1oXQOCPDAA74MwJGraY5HH6NpCCcBr4W2iuiqvv4HLAjQ/lk3na24GqAriMcCsFWyQGDKgVdZ2ipeG91EOyYWnVIQxQnaauAtAuDe6su4aUIj7X76gJlAtc2cca+q0k0Rq32zuktLPhLsm5pfv7qgiVQGM+MvAA1r9DCoLSwcD64DvwQxvhNfuuwFCwxIjAQFZDRAAkxUleUP5SaK7sf2kGwyylRFOkpJ8KagaUk88+zfBmA2w683KXGskwjpetDprRZoMrDR/6YgYUFCp8ZS1Q4fnTALU1/cdABPDx1JE0kPUmYD0mjyALya8gtEy0XTWyOQaZvEdrUVOGDGMzBzIIADgAcu+OCDi2Av1BuLrbWytM26X0xURkzS4h+U/YEm/nxI3trYiVsdNQqYW/D4lBNofhzlP1juML2mFVjBzlnAvfHPlfdthYKUwf5BGJ/WCx6xkw+LOMWyrqWBhEwAvznqFdpuNiDKny684p+bcO/KFSA/vecfOb/qaG8mxWZSzLM8KwUxecb4ZRKIP2T5fXCulZrVbnUGpd8h/HrP/END+6vGy8BAcoO/ROnPU/3r3/8wEDJLFHBV96tfxyywswT2bIEgs5nfhHUoftlvBxW0YEkwaK0lZSA4VJoACv0kwpIcUAOyC476ENjCeZDwUCmUwAoJkyJNwU9F4AmZCWtiKCHKyFICIVzgxKREwIVAdgisghGRhETRNTEpKGpi/gi8kjPS8IhJb5oiGDfwtyYyUYsg4GIIdibFL16kdzMooxLPqMQObEVEHbEKk2aYPbT58Y+A/CPMZBcTEsqRcHQknAck4hlG2kNuboDVVMCkva/xopIKOd8GVAdD8PxJY6AgkpIgc4vqiSAMM8SkuZ6iygmU0kknQGWjMIKSnRWplRJ4ZYZM0AxIAsAZHBmgFmR3rxtmgJPtCaYbJQA2DVSliyYIYQ05+AEw7Ww/HLzmakRWu8atJUiWGGAVtNkeY67GexMQwKNetxRywiY37rwON+d2AnXORwFLAafoBBVK95STbOgspjMnCICYVHEIsmsGOpFJGIIaNG/+lJNz/tBBBTckAA45JOMVN9o3O0nEP20jIkjx1jxvCmQKKOmaBD5KQZJygKH/+EZX7MDS/Tmnpp5yW0mjKdPsVWEgllFpHkeq0x7A1It83BhZpACPxiBBdlt5mfU2w1SqMCQ4AQyZs/A5ozdpCntBsFNVMhqygIwVPZrcJDq/Y7wXPnQyZE2rBo56DgOUZwCvOeuJvqLXWsj1mOj8011f49ZN9XUCZaVgoxYr1RJwSwMLqcBAdIIt8wXQXD9UqwkiS4HJtmlVBIBmyNj2iqr4BY5PJV1qrnEukrC2qC9da6IyGpmMio8jvVQIbDV7lwEEMgZi2NxrJTZcMqFTWr9VwyIY/mBbh+A2orlkUzOqOF2JHXR9pkDtOZYJgMT+5bI82Apt93fdbmZ3iN1lJS+skg0ElOovCADl3za2CE2BFwi8A+UEFBDfQ/SXgv89R4BNGYL80usA7gVFyNgFYHLwV79bG8FW+ve6AD+4lhYeMCwNl8DnJPgcC8awgzXMTO4+oz3ojbBh3FaVZCVFBrZqgoE3oEbjlqDFQ4Jx+JaBB008BJquPJpWYyeFkoxqFO5aGR6SnAK6IqDI8ziyZOFQskI4EwFMRgFMg8S/Ay4ZV0rGMpib7Dwu90x/b+iSJJL6ZUdcQA0OXIMF4NzYEsSEXg1YJ3oM8ACaCeHJPJOyBUJUtWcR5PlnEekzHlmYwqiaSgh0NUik/THpRyNtrdyx9CIri90vVKUemnoFPjVtVNnqo9KwQDWpd2qC+K5aA0kxJ2DncC9aDBkur9bBtHKNgV3zetCL/rUJfF2CWAu7NZnlALG9QICjcSjGx462tKdN7X1wmtQDMbUqCMAHdDzgvtUOt7jHjaZTyHqS4yW3utfN7narIgzBzowZ3E3vetv73kQwwq8ZsAR8+/vfAA+4CWLAaxtkJgIAOw==)"
      ],
      "metadata": {
        "id": "KD2n26AVpsnW"
      }
    },
    {
      "cell_type": "code",
      "source": [
        "print(100+50*(25-1))"
      ],
      "metadata": {
        "colab": {
          "base_uri": "https://localhost:8080/"
        },
        "id": "qM6dl9hElp4_",
        "outputId": "34c54c1e-82be-4b97-f8d3-4d4e214a7197"
      },
      "execution_count": null,
      "outputs": [
        {
          "output_type": "stream",
          "name": "stdout",
          "text": [
            "1300\n"
          ]
        }
      ]
    },
    {
      "cell_type": "markdown",
      "source": [
        "\\"
      ],
      "metadata": {
        "id": "vwa7wm5Ahxlo"
      }
    },
    {
      "cell_type": "code",
      "metadata": {
        "id": "SrJ_dPxS0pwP",
        "colab": {
          "base_uri": "https://localhost:8080/",
          "height": 282
        },
        "outputId": "266a039f-29c8-4353-e3d5-26485552bc4a"
      },
      "source": [
        "n = 25\n",
        "S_n = 0\n",
        "Serie_S_n=[]\n",
        "Sequence_a_n =[]\n",
        "for i in range(100, 1301, 50):\n",
        "  S_n = S_n + i\n",
        "  Serie_S_n.append(S_n)\n",
        "  Sequence_a_n.append(i)\n",
        " \n",
        "plt.plot(Serie_S_n, color='green',label='Serie_S_n')\n",
        "plt.plot(Sequence_a_n, color='blue',label='Secuencia_a_n')\n",
        "plt.legend()"
      ],
      "execution_count": null,
      "outputs": [
        {
          "output_type": "execute_result",
          "data": {
            "text/plain": [
              "<matplotlib.legend.Legend at 0x7ffa3ae30a50>"
            ]
          },
          "metadata": {},
          "execution_count": 36
        },
        {
          "output_type": "display_data",
          "data": {
            "text/plain": [
              "<Figure size 432x288 with 1 Axes>"
            ],
            "image/png": "[encoded data removed]"
          },
          "metadata": {
            "needs_background": "light"
          }
        }
      ]
    },
    {
      "cell_type": "markdown",
      "source": [
        "Cálculo de el término 10.000.000 de la serie aritmética"
      ],
      "metadata": {
        "id": "rdbetemjnJ5V"
      }
    },
    {
      "cell_type": "code",
      "source": [
        "n = 10000000\n",
        "S_n = 100\n",
        "for i in range(n-1):\n",
        "  S_n = S_n + 50\n",
        "print(S_n)"
      ],
      "metadata": {
        "colab": {
          "base_uri": "https://localhost:8080/"
        },
        "id": "4sJSc9nnnI9x",
        "outputId": "b88fb092-c335-414c-ee04-9df915675de2"
      },
      "execution_count": null,
      "outputs": [
        {
          "output_type": "stream",
          "name": "stdout",
          "text": [
            "500000050\n"
          ]
        }
      ]
    },
    {
      "cell_type": "code",
      "source": [
        "n=10000000\n",
        "l=100+50*(n-1)\n",
        "print(l)"
      ],
      "metadata": {
        "colab": {
          "base_uri": "https://localhost:8080/"
        },
        "id": "O4zU5-vwogq_",
        "outputId": "f8012f97-a8b6-4093-d94f-6d1d6de229e6"
      },
      "execution_count": null,
      "outputs": [
        {
          "output_type": "stream",
          "name": "stdout",
          "text": [
            "500000050\n"
          ]
        }
      ]
    },
    {
      "cell_type": "markdown",
      "source": [
        "Cálculo de la sumatoria de los valores de la secuencia desde n=0 hasta n=10000000"
      ],
      "metadata": {
        "id": "MkTEtKUcqwap"
      }
    },
    {
      "cell_type": "code",
      "source": [
        "print(((100 + 500000050)*10000000)/2)\n"
      ],
      "metadata": {
        "colab": {
          "base_uri": "https://localhost:8080/"
        },
        "id": "PvPx9FSlp__g",
        "outputId": "10caa00a-e56e-44fb-e1d1-bc368f05548d"
      },
      "execution_count": null,
      "outputs": [
        {
          "output_type": "stream",
          "name": "stdout",
          "text": [
            "2500000750000000.0\n"
          ]
        }
      ]
    },
    {
      "cell_type": "markdown",
      "source": [
        "##Segundo Ejemplo"
      ],
      "metadata": {
        "id": "K_z10XhQq9Lb"
      }
    },
    {
      "cell_type": "markdown",
      "source": [
        "![CodeCogsEqn (4).gif](data:image/gif;base64,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)"
      ],
      "metadata": {
        "id": "IycXyNzOssFl"
      }
    },
    {
      "cell_type": "markdown",
      "source": [
        "![CodeCogsEqn (5).gif](data:image/gif;base64,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)"
      ],
      "metadata": {
        "id": "VMtY1NA-sqL8"
      }
    },
    {
      "cell_type": "code",
      "source": [
        "print(1000000+(-100)*(42-1))"
      ],
      "metadata": {
        "colab": {
          "base_uri": "https://localhost:8080/"
        },
        "id": "L6AINLdStkoz",
        "outputId": "4724d84f-c018-4707-e5e0-2be758ade0d6"
      },
      "execution_count": null,
      "outputs": [
        {
          "output_type": "stream",
          "name": "stdout",
          "text": [
            "995900\n"
          ]
        }
      ]
    },
    {
      "cell_type": "code",
      "source": [
        "n = 42\n",
        "S_n = 0\n",
        "Serie_S_n=[]\n",
        "Sequence_a_n =[]\n",
        "for i in range(1000000, 995899, -100):\n",
        "  S_n = S_n + i\n",
        "  Serie_S_n.append(S_n)\n",
        "  Sequence_a_n.append(i)\n",
        " \n",
        "plt.plot(Serie_S_n, color='green',label='Serie_S_n')\n",
        "plt.plot(Sequence_a_n, color='blue',label='Secuencia_a_n')\n",
        "plt.legend()"
      ],
      "metadata": {
        "colab": {
          "base_uri": "https://localhost:8080/",
          "height": 293
        },
        "id": "ytRw6y9-tukV",
        "outputId": "bb4163d4-217a-404d-b793-e41c3588032f"
      },
      "execution_count": null,
      "outputs": [
        {
          "output_type": "execute_result",
          "data": {
            "text/plain": [
              "<matplotlib.legend.Legend at 0x7ffa3ae0cc10>"
            ]
          },
          "metadata": {},
          "execution_count": 37
        },
        {
          "output_type": "display_data",
          "data": {
            "text/plain": [
              "<Figure size 432x288 with 1 Axes>"
            ],
            "image/png": "[encoded data removed]"
          },
          "metadata": {
            "needs_background": "light"
          }
        }
      ]
    },
    {
      "cell_type": "markdown",
      "source": [
        "Cálculo de el término 10.000.000 de la serie aritmética"
      ],
      "metadata": {
        "id": "U-AyhYtMuqR3"
      }
    },
    {
      "cell_type": "code",
      "source": [
        "n = 10000000\n",
        "S_n = 1000000\n",
        "for i in range(n-1):\n",
        "  S_n = S_n -100\n",
        "print(S_n)"
      ],
      "metadata": {
        "colab": {
          "base_uri": "https://localhost:8080/"
        },
        "outputId": "2004f594-53e3-435d-a390-4998aaf29a4b",
        "id": "V3TGqCH3u5DF"
      },
      "execution_count": null,
      "outputs": [
        {
          "output_type": "stream",
          "name": "stdout",
          "text": [
            "-998999900\n"
          ]
        }
      ]
    },
    {
      "cell_type": "code",
      "source": [
        "n=10000000\n",
        "l=100000+(-100)*(n-1)\n",
        "print(l)"
      ],
      "metadata": {
        "colab": {
          "base_uri": "https://localhost:8080/"
        },
        "outputId": "2cf16066-3b83-424e-fe84-ddb1530ed236",
        "id": "L9FGj13Yu5DT"
      },
      "execution_count": null,
      "outputs": [
        {
          "output_type": "stream",
          "name": "stdout",
          "text": [
            "-999899900\n"
          ]
        }
      ]
    },
    {
      "cell_type": "markdown",
      "source": [
        "Cálculo de la sumatoria de los valores de la secuencia desde n=0 hasta n=10000000"
      ],
      "metadata": {
        "id": "sR3RplCyu5DU"
      }
    },
    {
      "cell_type": "code",
      "source": [
        "print(((1000000 +(-999899900) )*10000000)/2)"
      ],
      "metadata": {
        "colab": {
          "base_uri": "https://localhost:8080/"
        },
        "outputId": "bd223f5c-223b-401b-de1d-dd27fa4d2af7",
        "id": "Yod2b36Gu5DU"
      },
      "execution_count": null,
      "outputs": [
        {
          "output_type": "stream",
          "name": "stdout",
          "text": [
            "-4994499500000000.0\n"
          ]
        }
      ]
    },
    {
      "cell_type": "markdown",
      "metadata": {
        "id": "AKWJ1F7hac8T"
      },
      "source": [
        "# Geometric Series\n",
        "\n",
        "## Modified from Geometric Series -  [Wolfram MathWorld](https://mathworld.wolfram.com/GeometricSeries.html) - [wikipedia](https://en.wikipedia.org/wiki/Geometric_series)\n"
      ]
    },
    {
      "cell_type": "markdown",
      "metadata": {
        "id": "W5zx_-nR81GI"
      },
      "source": [
        "An geometric series is the sum of a sequence $\\{a_k\\}$ for $k=1, 2, ..., $ in which each term is computed from the previous one by adding (or subtracting) a constant $d$. \n",
        "\n",
        "\\begin{align*}\n",
        "a_0 &\\ \\ =\\ \\ r^0 \\ \\ =\\ \\ 1\\\\\n",
        "a_1 &\\ \\ =\\ \\ a_0 *  r \\ \\ =\\ \\  r\\\\\n",
        "a_2 &\\ \\ =\\ \\ a_1 * r\\ \\ =\\ \\ a_0 * r^2  \\ \\ =\\ \\ r^2 \\\\\n",
        "a_3 &\\ \\ =\\ \\ a_2 * r \\ \\ =\\ \\ a_0 * r^3 \\ \\ =\\ \\  r^3  \\\\\n",
        "a_4 &\\ \\ =\\ \\ a_3 * r\\ \\  =\\ \\ a_0 * r^4 \\ \\  =\\ \\ r^4  \\\\\n",
        "\\vdots\\\\\n",
        "a_k &\\ \\ =\\ \\ a_{(k-1)}* r \\ =\\   a_0 * r^k \\ \\  =\\ \\  r^k\n",
        "\\end{align*}\n",
        "\n",
        "The sum of the first $n$ terms  of  the geometric sequence (called an geometric serie)  is then given by\n",
        "$$\n",
        "\\begin{array}{ll}\n",
        "S_n &=  1 + r + r^2 + \\cdots + r^{n-1} +r^n \\\\\n",
        " &=  (1 + r + r^2 + \\cdots + r^{n-1} ) +r^n \\\\\n",
        " &= S_{n-1}  +r^n \n",
        "\\end{array}\n",
        "$$\n",
        "\n",
        "$$\n",
        "\\begin{array}{ll}\n",
        "S_n &=  1 + r + r^2 + \\cdots + r^{n-1} +r^n \\\\\n",
        " &=  1 + (r + r^2 + \\cdots + r^{n-1}  +r^n)  \\\\\n",
        " &=   1 + r (1 +  r  + r^2 + \\cdots + r^{n-1} )  \\\\\n",
        "  &=   1 + r   S_{n-1} \n",
        "\\end{array}\n",
        "$$\n",
        "\n",
        "Then\n",
        "$$\n",
        " S_{n-1}  +r^n =   1 + r   S_{n-1} \n",
        "$$\n",
        "\n",
        "Therefore\n",
        "$$\n",
        " S_{n-1} (1 -r)   +r^n =   1 - r^n \n",
        "$$\n",
        "\n",
        "$$\n",
        " S_{n-1}   =   \\frac{1 - r^n }{1 -r}\n",
        "$$\n",
        "\n",
        "$$\n",
        " S_{n}   =   \\frac{1 - r^{n+1} }{1 -r}  = \\frac{ r^{n+1} - 1}{r -1}\n",
        "$$\n"
      ]
    },
    {
      "cell_type": "markdown",
      "metadata": {
        "id": "CDUYfT8k8crr"
      },
      "source": [
        "## Nodes in Complete Binary Tree with $L=0,1,2,\\cdots , L-1$ levels \n",
        "\n",
        "![](https://raw.githubusercontent.com/gjhernandezp/algorithms/master/Lab7/ComBinTree.png)\n",
        "\n",
        "In a complete binary tree you have in ecah level $k =0,1,2,\\cdots $  $ 2^k $\n",
        "\n",
        "$$\n",
        "\\begin{array}{ll}\n",
        "\\text {Level } 0 \\rightarrow 2^0 = 1 \\text { node (root)} \\\\\n",
        "\\text {Level } 1 \\rightarrow 2^1 = 2 \\text { nodes} \\\\\n",
        "\\text {Level } 2 \\rightarrow 2^2 = 4 \\text { nodes} \\\\\n",
        "\\text {Level } 3 \\rightarrow 2^3 = 8 \\text { nodes} \\\\\n",
        "\\vdots\\\\\n",
        "\\text {Level } k \\rightarrow 2^k  \\text { nodes} \\\\\n",
        "\\end{array}\n",
        "$$\n",
        "\n",
        "nodes, with $l = 0,1,2, ... $ the level\n",
        "\n",
        "Total number of the complte tree with $L=0,1,2,\\cdots , L-1$ levels\n",
        "\n",
        "$$ \n",
        "2^0 + 2^1 + 2^2 + \\cdots +2^{L-1}  = 1 + 2 + 4 + \\cdots +2^{L-1} = \\sum_{k=0}^{L-1} 2^k = \\frac{ 2^{L} - 1}{2 -1} = 2^{L} - 1\n",
        "$$"
      ]
    },
    {
      "cell_type": "markdown",
      "metadata": {
        "id": "Dd3RWDwJe2xD"
      },
      "source": [
        "## Zenon Arrow\n",
        "\n",
        "![](https://raw.githubusercontent.com/gjhernandezp/algorithms/master/Lab7/zeno-paradox-arrow.png)\n",
        "\n",
        "https://leseditionsdeschavonnes.com/2018/10/15/the-paradox-of-achilles-and-the-tortoise/\n",
        "\n",
        "\n",
        "\n",
        "$$ \n",
        "\\lim_{n\\rightarrow \\infty} \\left\\{\\left(\\frac{1}{2}\\right)^0 + \\left(\\frac{1}{2}\\right)^1 +\\left(\\frac{1}{2}\\right)^2 + \\cdots +\\left(\\frac{1}{2}\\right)^{n} \\right\\} = \\lim_{n\\rightarrow \\infty} \\left\\{ 1 +\\frac{1}{2} + \\frac{1}{4} + \\frac{1}{8} + \\cdots +\\frac{1}{2^{n}}\\right\\}  = \\lim_{n\\rightarrow \\infty} \\sum_{k=0}^{n} \\left(\\frac{1}{2}\\right)^k = \\lim_{n\\rightarrow \\infty} \\frac{ 1- \\left(\\frac{1}{2}\\right)^n  }{1 - \\left(\\frac{1}{2}\\right) } = \\frac{ 1}{1 - \\left(\\frac{1}{2}\\right)} = 2\n",
        "$$"
      ]
    },
    {
      "cell_type": "markdown",
      "metadata": {
        "id": "R-J4EekBNPkd"
      },
      "source": [
        "### Code"
      ]
    },
    {
      "cell_type": "code",
      "metadata": {
        "id": "8xdBovY3NEW_"
      },
      "source": [],
      "execution_count": null,
      "outputs": []
    },
    {
      "cell_type": "markdown",
      "source": [
        "##Ejemplo 1\n"
      ],
      "metadata": {
        "id": "lT_0Z6MFx8_J"
      }
    },
    {
      "cell_type": "markdown",
      "source": [
        "![CodeCogsEqn (6).gif](data:image/gif;base64,R0lGODdhzwAlALMAAP///wAAALq6ukRERGZmZtzc3O7u7lRUVBAQEMzMzDIyMnZ2dpiYmKqqqoiIiCIiIiwAAAAAzwAlAAAE/hDISau9OOvNu/9gKI7c8pBoqq5s63rHQCDIa994rqdKvf/AoHDVGxqPn4aDdDAgKcWndApoKFCJhxNjOCiWBQJBQWhFqWhhAlFIOa6YpiDgOEgMdNY5fSMcGm0ABgkmgUIGCA0ZJgEPB0sYMhcGZQ0BcBIBdkQ+fDcHAaGioYpGBAMYBQoMTgmgDwkXBQGxFQWxBAGGeAt6nZ4voKOahmoBApMPxQALocsSXhkPJxMMxxQPw9rOFnvALX8CDg4CW0cH1BYEpRUIlxcJAewUeGUTAwFmv98sB7VTsxhg2DfBQShk3VBZsMSuniCEKLzxU+EPjUFzFOJdqzAnQC8L/s0wSshlzhoyciokTkRRkQWhESqrhNqUMZQ9jgEEVphG4WIBmiiyrQT3TwXJEHiA0usBcUJHSBWSWngAVdCBAx9JLBigINQDSRQEDBhbJozIoRP8/YyhYMHZDs1EzKnqweDGqQSlHEBQy1XXpmjTxjCH7pksiNYo6NxgUkQ2TBbw8elarFmAtyjwbNs8DHAcpQCyYYYSwF4DalnuZshVtEPH1hRAGTaVs4IlyC1uJdjNu7fv3h4MN7uZ4WejW1esIaAbR1eIbMwp5PJsJB7BZlkDc+g4moLxBQoGLP+Ar7u6PBqazUPSNbuEv9qDH/xQIJt7DpI/WIteweD66qG0/qZZfB5oxt9CDyjwAAIEzHZBeR7MsVh6qh1h10LvEHiHgs9oRhwGp9GRwAAGdNVgB7J1sMZ/GEw3RS4KSYfeC5pxZiN1FFgy4wSz7HjBK7EIQI1lsJ2Ho3cIAGYAjqAUKUQuHwLgTi2bdPEFAGGMEaUGuv3mpW8czKLAM69tUEc1nYhlHgDWsEgPLBaIE0k+UxjknkZ3KCQHHVX6KAVuEzQDmpl0gjCXBiUWuQCOPAGkiXddUcOAQJTIBNmjaQgQpXVrVhASUphi0FYDpJaqBBuThCpFM4EIYEcUCt0CQC67eOSJAwMgZIA1AziYAQN5cRATAPjYiIGEaTAwwFU6eRkw1gHLNCpBY56E0YMjburA6gU6cgaoBJ9qKEhpFOQn7g8BvRDeuTI1RO6S7OowQDorxHPkUEdNew1K8eJgLzj0aigtAD4N2m8Lp7Awi5OBUUXPVfcd7AIi93oAlsQYq4FApxm8kfHHQliBgpAcg2wyCkowUTIQEQAAOw==)"
      ],
      "metadata": {
        "id": "GBolevk_0syv"
      }
    },
    {
      "cell_type": "code",
      "source": [
        "n = 12\n",
        "x = 5\n",
        "\n",
        "for i in range(n-1):\n",
        "  x *= 2\n",
        "\n",
        "print(x)"
      ],
      "metadata": {
        "colab": {
          "base_uri": "https://localhost:8080/"
        },
        "id": "coV6G4PjyAhY",
        "outputId": "e2b074c5-cea1-4427-b01c-2efd6f938bc3"
      },
      "execution_count": null,
      "outputs": [
        {
          "output_type": "stream",
          "name": "stdout",
          "text": [
            "10240\n"
          ]
        }
      ]
    },
    {
      "cell_type": "code",
      "source": [
        "print(5*(2**(n-1)))"
      ],
      "metadata": {
        "colab": {
          "base_uri": "https://localhost:8080/"
        },
        "id": "beFED7uJyfD3",
        "outputId": "6dfcd03d-1be5-4db2-ab6d-09838c04917b"
      },
      "execution_count": null,
      "outputs": [
        {
          "output_type": "stream",
          "name": "stdout",
          "text": [
            "10240\n"
          ]
        }
      ]
    },
    {
      "cell_type": "markdown",
      "source": [
        "![CodeCogsEqn (7).gif](data:image/gif;base64,R0lGODdh5wBIALMAAP///wAAANzc3HZ2diIiIhAQEDIyMoiIiERERGZmZu7u7piYmLq6uqqqqszMzFRUVCwAAAAA5wBIAAAE/hDISau9OOvNu/9gNRDY8SDEI4Rs675wLM/xmRTF9TSSggQMmnBILBpZjUPMkKssFhRFoKA4Dh9Vq3YLaxhkTAui4KA8AjxuzEHIqt/wi6OwWjYpv7QkERjEXwdff4MtCTt1Cg4jdRYKBXoWIwEpShlhFYkVeYQ6lRgICZyiHWcBpqdoGQkIGAIGC1UOZwRlF5caUneciQMFfRoCAbWjxBalqCoZDkAXCgSMEgOm0BO3qsyiUwgLBr8aD4LF4hI7DAcHDG4YDyQXCZATvuEU1hcNqeM/fhrL8OOiD4ZxCAblgi4KB0wFqVCvwhx/o/RxMMDqX7GAHxKqm7AMGwUG/qb20TtIQQAtiwAkbpC2EeUfjB4aSrgX4IGFjqEYkpTgipEDTxG9aQBZ0CUhmByk2GzGZOFHU0AlyPQBDZ04lbhqGuUUUMCDEwYGtAQAMmqHhB4nEAjQiEABA3AJrKXGCasGt1uPnnDDju6CtB7WzhuAoNskUBN+oDqVT6iGH3kHfbWwdiMfgR1ACosMwm6GM3Q5WwktLecE0CHWmhWdwTMGPk5ZD9Ks7sfYa6tlX3B9QRpE3VyCpYX84W9uI1IWK18+rwNvCwl/A9eSHKhtD0T/MGjAvbv3790xc3guAvB0GgoMPGtkyjQA1Bwennfu+Frs+TNomhUOFPbAAvcp/nAffuSZsRl+QgRjAF2aCfSXdD2cVIE5COJR3ydsVShEcxNIs9QEZeFigHgADDDgfAWq1Y6GMzDgngTLUIGJVpYMAF4SdLCYUgAvNkOjjjIcgMBCCvyFQGgySaDYcqboOMckoT1V1AYCjCCPJxXpKEACTKQgnTSh0cRkABwCN8ZyBfQYTQC3VXBAAQfUseUXXAIZAkF2akFRB3C1tMBaIuXp3IqCDrHMiZrIeMFaiBZ6k3mOwsAOB/dIx0ekHqyC6QzBkMgQmxkskOWmGTjSKKnOqWnBFBoscByqMCoKKwiBeDBNqJ7OOlOZumLAQBseyNOrC0kMywEWGZmSZjrG/jZb12JhRenstEU0sOQpU1I35rYKUVvhT4YdGJwD5JZr7rnneuukLx9SMEIJJ6Qgrbr0TnAPoTbgoEMaPkBKCLcAByzwwAQXbPDBi82UKwBSEFoNSU9EMUWbcSBs8cUYZ6xxwinNG8yoD4tBhoEQ1ksqqBnck61UJG0yAR+BYpDcwaeaPMoy846BQUOZWFgyT+gGHbTNWyUUMwV/IZqkxDsRTeoPBKwMwF9Ss8yBf073ioYrQ2bBAArzLj0TPlnPqoi9KGhT9Uj8PFL227Y0DYBJC8NNdJI9cfSqoJJQ4tIDe6M01ZEI1QykK7AAIMskdavBiy9HR7ZWW2/FNReqv85QI00A83KhdjeRu0SYYQQgpiSTsL5jEJmNhW73P02jZbgaKb5+c7cThnTVhbaPQ1O7MLa3u+u9j5IegBZoFjjtvBefl+zDO6+bYK1Lz1qD1VvPmWr/1K79KHwsD4f33xNi3AczE8xra82XP0p2IGx34/zcNa5J++4TIp9L5OcfHPJRmB0X+uc/KzhDPBQqBgELWIT0kMhE0WMgJ8Jyozd17g0/UJUEt3Ct5YjjSevZIBzExKT10c4XykkTFyIAADs=)"
      ],
      "metadata": {
        "id": "CU8rScQR0ybw"
      }
    },
    {
      "cell_type": "code",
      "source": [
        "n = 12\n",
        "x = 5\n",
        "S_n = 5\n",
        "\n",
        "for i in range(n-1):\n",
        "  x *= 2\n",
        "  S_n += x\n",
        "\n",
        "print(S_n)"
      ],
      "metadata": {
        "colab": {
          "base_uri": "https://localhost:8080/"
        },
        "id": "j_YT4faDy4O6",
        "outputId": "b7f6aab1-cf8c-4532-cb89-a90c06d44b54"
      },
      "execution_count": null,
      "outputs": [
        {
          "output_type": "stream",
          "name": "stdout",
          "text": [
            "20475\n"
          ]
        }
      ]
    },
    {
      "cell_type": "code",
      "source": [
        "print((5*((2**12)-1))/(2-1))"
      ],
      "metadata": {
        "colab": {
          "base_uri": "https://localhost:8080/"
        },
        "id": "6jmiePTEzB99",
        "outputId": "b7edbc08-6012-46c3-fdb5-26a30ab4b403"
      },
      "execution_count": null,
      "outputs": [
        {
          "output_type": "stream",
          "name": "stdout",
          "text": [
            "20475.0\n"
          ]
        }
      ]
    },
    {
      "cell_type": "code",
      "source": [
        "n = 25\n",
        "S_n =5\n",
        "x = 5\n",
        "Serie_S_n=[5]\n",
        "Sequence_a_n =[5]\n",
        "for i in range(n-1):\n",
        "  x *= 2\n",
        "  S_n += x\n",
        "  Serie_S_n.append(S_n)\n",
        "  Sequence_a_n.append(x)\n",
        " \n",
        "plt.plot(Serie_S_n, color='blue',label='Serie_S_n')\n",
        "plt.plot(Sequence_a_n, color='green',label='Secuencia_a_n')\n",
        "plt.legend()"
      ],
      "metadata": {
        "colab": {
          "base_uri": "https://localhost:8080/",
          "height": 293
        },
        "id": "aO3GIXvWzWOd",
        "outputId": "37dbc70e-5d5c-46c8-83a2-9e81c148db46"
      },
      "execution_count": null,
      "outputs": [
        {
          "output_type": "execute_result",
          "data": {
            "text/plain": [
              "<matplotlib.legend.Legend at 0x7ffa3aed4a90>"
            ]
          },
          "metadata": {},
          "execution_count": 49
        },
        {
          "output_type": "display_data",
          "data": {
            "text/plain": [
              "<Figure size 432x288 with 1 Axes>"
            ],
            "image/png": "[encoded data removed]"
          },
          "metadata": {
            "needs_background": "light"
          }
        }
      ]
    },
    {
      "cell_type": "code",
      "source": [],
      "metadata": {
        "id": "da0n1Tuc1EWs"
      },
      "execution_count": null,
      "outputs": []
    },
    {
      "cell_type": "markdown",
      "source": [
        "#Ejemplo 2"
      ],
      "metadata": {
        "id": "z7DPTTlsztyx"
      }
    },
    {
      "cell_type": "markdown",
      "source": [
        "![CodeCogsEqn (9).gif](data:image/gif;base64,R0lGODdhxQAiALMAAP///wAAALq6ukRERGZmZtzc3O7u7lRUVBAQEMzMzDIyMnZ2dpiYmKqqqoiIiCIiIiwAAAAAxQAiAAAE/hDISau9OOvNu/9gKI7S8pBoqq5s61LHQCDIa994rnNKvf/AoNDTGxqPSF0xyWy2DAeFA1AgEBSE1tLJ7YIOBkHAcZAYxqytF2cKPA7TTGNAH8SHhgVdoVgYKAZZDQEKFAFlK2prLgUKDH8JB24JFwMKBWYHD5hBAgoNEwkIAQwTBZQEAZwAZwtpPosuBpsVCwGqFQcIfxQKJ0CNFmIBAhUPvxIMxBQPt87Pz6sTirEqBKAWo4UTYq4Vg947tgMWt+QTZ1kTAwFasNUr7xQOt8USkvYVAfI47LjM+ygMwsYqQJYwKqjBG5GgnrBb4W5JmzAqX44GCM5R0EYhFS8A/sqKObA4QuHCEIMOWWhoUMIwDArQfEgQLsWZADWPzQtgoACiFM1OqjDQgySAYXHo8ZPA7mcHjyuU7WJ2h9WBAzVF6InpRkYFAXWyVPkolAO9ZQBsLQXATmMHWysMVPSiixKASDGNlsXQbBuAVGsl+cVQIJ8yCqVAhHmgwC6XmNJs8XxxE5rly2hFDHMsKbCbDTHVNfiVoJneC3NiKjh9JFXiCYMGtziVoLbt27hvo2hWFTAGScgIAz9VSGrVmQ8QsA7SkJ+trHsvpDqu9vdnDj5xKhiA4HiIm96HxISeN7oGZd6VYmAnW0OBZtBHpArg2AjL+gXbmccg5jXiWzCp/tTBaL4gQMBEIqSkzhFnWRDbfheIQtBXt5A1AXwcjDZGAgMQZRCCFZR2yUOEJJGKWxJMd0NlmLWYGXbKVYBQfiA6pAFwlAjwi2T4VTAfdMO0F0QqC1JE3z2ZSEGFFViAQFtuUOL2wSw9CnBHeTIGtAEZEzAAC1gW1nLLhMlAlAQ9WbFkxjlgiMFlQeElQVSPaeUzSJFlxqcBPSCIAqI/IAIjoASNXMdAKYEA8OAEgz62QAOQRtqAAwhII8lEyWk12QcL4HnUmE3YwokAZSxxzil//VOQnkf406KMA9DCSqyBnreWBgt8wgtGCPiXBAMDXJWYAXQcgGlwIXWRUotCOc5xlR1HVFHgA35AWFCR7Fir7V4DodPSjNuGuwZUZYq0nLjoCqHTBPT05FS68B7xQFVQYBXvvStEAAA7)"
      ],
      "metadata": {
        "id": "vfGEb6E21Fa5"
      }
    },
    {
      "cell_type": "code",
      "source": [
        "n = 8\n",
        "x = 20\n",
        "\n",
        "for i in range(n-1):\n",
        "  x *= 3\n",
        "\n",
        "print(x)"
      ],
      "metadata": {
        "colab": {
          "base_uri": "https://localhost:8080/"
        },
        "id": "IRLYg1A5zv3B",
        "outputId": "67dd3a81-44f6-47d1-8522-7fa3e77c3b1c"
      },
      "execution_count": null,
      "outputs": [
        {
          "output_type": "stream",
          "name": "stdout",
          "text": [
            "43740\n"
          ]
        }
      ]
    },
    {
      "cell_type": "code",
      "source": [
        "print(20*(3**(n-1)))"
      ],
      "metadata": {
        "colab": {
          "base_uri": "https://localhost:8080/"
        },
        "id": "9WUzQuV40Gns",
        "outputId": "bc199dd1-1c4b-4752-d447-156109f4dfd2"
      },
      "execution_count": null,
      "outputs": [
        {
          "output_type": "stream",
          "name": "stdout",
          "text": [
            "43740\n"
          ]
        }
      ]
    },
    {
      "cell_type": "markdown",
      "source": [
        "![CodeCogsEqn (8).gif](data:image/gif;base64,R0lGODdh4ABIALMAAP///wAAANzc3HZ2diIiIhAQEDIyMoiIiERERGZmZu7u7piYmLq6uqqqqszMzFRUVCwAAAAA4ABIAAAE/hDISau9OOvNu//gxSTkw4Roqq5s676wdCyTYjRxru98HzaHlIJQcRR8uocCyWy6GgZV40hRBJwvB2GJ7XozRoHKEUBwAQvEl3WIrt+XASFAeAQzDYQecc8oCjgXCgN6BgYDZxMIAQFBCwZicBd2GggJkpICBgtLDg90DhcIkBIKDwSRFwlqIjcTRgE0VYsBBayYpQ4DBQEDGgIBobheQ6kSA4zGAA8FiQAGRBdkJxaaFgyM1BMNBHMBl7i1CI+9Gw9uw1gJgRW86ADYvhUN5RanGMi3E4z6D2YAyAK8w7VIHpgA7NIxoWLhQLYJn7RRqFUtFgZayuYwHPBOk8V0/gU5GNCnsAeZABIlYKsHINkFXikdOttmy4K7CYAs1FEYcgOymSVz0AvwwMJJcCsxGGhUwQBDD1ZYorRAgifLDNhkBeVho0BKeIzuOHxKYVHRGkRDLKh1xpIFA1/h9NRg5exWLw6nAqQoqgwFbH06/NFbikDgBAaHzdVAgOzdJnPQJeBrTyCFtXEFMSBgQFiVAwgeiM4s92qGRY+7rPT8ybGET9EkTPaMZ5RA0qkBLM7wSVluHnMOU64Am0JvEFq8/rawG8Nk3MtbTA681/UyOmUDAKUbNroi0/gQet+xljqAsRctf08xOZiLqIziy58ffyCH5hccJhzvIuuFtVdc/rCUXbpph8JQ4LTAQAMMNujggw3S1gF+FiADHX8fGLHfBCsBNUdix0nDmW8r2ZcahRU8h6ELAihXBTVR+dYSYQCoqAojianEiImPoWiceyuuMISE8PSx1FdWkLXWhscwsiGAOebm43pBqmADkQBpQ0+CE6yVI2AYhNFXADL2CN4F3VSpwiEQAlGAMSFO0JgFdWUwAJc6ijfeIngKkpaaIdBCX3wVKIAAKqUcKqNTGnDUABdTFKBVdLAgqoF/HQgghzt9kPTYUIPueEEeovFhJ5m/JABNAQQg4h0CvNBXQJ9NblfBAQUcEIkAqtbII6AoADMpsC6M1IEhMy3wIbEv/hzKbBY0XtQMBnNc+OwG01zLwj0b0MOkbAFqu8Iq4qYADJZNGYhBGuUK6WK7HrjFwXAWLGAevB4YYSu+E7ThgUvrostvt78OvNm+FNw0sA5ALDwJwhTkNSsDEDtssROC7jhAmRd3zEQe9A0rZKgky2etx2o60EZ8AocggAMwxyzzzDOj7DAsBMJDQgIm2Owzw9j1q5UN365R8tFIJ6300kw37fTTEjTQshWxDVGEdUY/rfXWXHft9dISIMAxAMDcMkWh4f6sdgbqYkCPVmT8IwG7HMDn9MlrB0XG2LBWQIsjpGRK8+CD5x2kQ1F2Ga2hjNRk+OPZESAyGh/N0w0j/rRC/jNCmiBAsUqKTvJPQAVrfrEu2xwqzuQAdbQU66bH3s6GO8luOwbR1pg5voMUckjFXlCyZ59wdcyAKxLAAnsXCujCS+KpDXEY9PBaU8FKePOw+lLUP6YAaKL13HE+FvBjVfe3S4JRBRqdn/5dU3iqsGJnvn9XVOh3MaX96aw1LUj1459CBpM9JuxPgG9QwGY6E5QDIrALeVhK8RoYwAdiIjkFRIIDLfiFqNzrDRvkoBfa0zIA2G1ppWNOBUUIBwRxYEFtiiGDSqjC/LGQB1oI3F9ERT8b3lAH7YlSiQDowx/GICBPwhERjegFMakQVT1kohfudA0nWWV3UuSBGqMgVQBJKaRSY8uiDni1qlYBT4Oxms+suhABADs=)"
      ],
      "metadata": {
        "id": "76HTNZ-X1C19"
      }
    },
    {
      "cell_type": "code",
      "source": [
        "n = 8\n",
        "x = 20\n",
        "S_n = 20\n",
        "\n",
        "for i in range(n-1):\n",
        "  x *= 3\n",
        "  S_n += x\n",
        "\n",
        "print(S_n)"
      ],
      "metadata": {
        "colab": {
          "base_uri": "https://localhost:8080/"
        },
        "id": "OYG7OXEz0M0k",
        "outputId": "c4b809a8-1aed-4319-dc01-4b5e9b4e9f4b"
      },
      "execution_count": null,
      "outputs": [
        {
          "output_type": "stream",
          "name": "stdout",
          "text": [
            "65600\n"
          ]
        }
      ]
    },
    {
      "cell_type": "code",
      "source": [
        "print((20*((3**8)-1))/(3-1))"
      ],
      "metadata": {
        "colab": {
          "base_uri": "https://localhost:8080/"
        },
        "id": "RaNhcCsp0UVa",
        "outputId": "f8fce822-eb48-47c2-a344-42041f16b382"
      },
      "execution_count": null,
      "outputs": [
        {
          "output_type": "stream",
          "name": "stdout",
          "text": [
            "65600.0\n"
          ]
        }
      ]
    },
    {
      "cell_type": "code",
      "source": [
        "n = 8\n",
        "S_n =20\n",
        "x = 20\n",
        "Serie_S_n=[8]\n",
        "Sequence_a_n =[8]\n",
        "for i in range(n-1):\n",
        "  x *= 3\n",
        "  S_n += x\n",
        "  Serie_S_n.append(S_n)\n",
        "  Sequence_a_n.append(x)\n",
        " \n",
        "plt.plot(Serie_S_n, color='blue',label='Serie_S_n')\n",
        "plt.plot(Sequence_a_n, color='green',label='Secuencia_a_n')\n",
        "plt.legend()"
      ],
      "metadata": {
        "colab": {
          "base_uri": "https://localhost:8080/",
          "height": 282
        },
        "id": "J2Luc1j90gJ9",
        "outputId": "4cc08647-debe-4f6f-df48-f959e5d724f1"
      },
      "execution_count": null,
      "outputs": [
        {
          "output_type": "execute_result",
          "data": {
            "text/plain": [
              "<matplotlib.legend.Legend at 0x7ffa3ac22750>"
            ]
          },
          "metadata": {},
          "execution_count": 54
        },
        {
          "output_type": "display_data",
          "data": {
            "text/plain": [
              "<Figure size 432x288 with 1 Axes>"
            ],
            "image/png": "[encoded data removed]"
          },
          "metadata": {
            "needs_background": "light"
          }
        }
      ]
    },
    {
      "cell_type": "markdown",
      "metadata": {
        "id": "dh2ntBeoNQlN"
      },
      "source": [
        "# Power Sums Power Sums - [Wolfram MathWorld](https://mathworld.wolfram.com/PowerSum.html) - [wikipedia](https://en.wikipedia.org/wiki/Sums_of_powers) - [reserachgate](https://www.researchgate.net/publication/331933608_The_Powers_Sums_Bernoulli_Numbers_Bernoulli_Polynomials_Rethinked)\n",
        "\n"
      ]
    },
    {
      "cell_type": "markdown",
      "source": [
        "##Ejemplo 1 "
      ],
      "metadata": {
        "id": "ntjxm_n51v5E"
      }
    },
    {
      "cell_type": "markdown",
      "source": [
        "![CodeCogsEqn (10).gif](data:image/gif;base64,R0lGODdhXgAWALMAAP///wAAANzc3FRUVDIyMkRERMzMzJiYmBAQECIiInZ2dmZmZu7u7qqqqoiIiLq6uiwAAAAAXgAWAAAE/hDISau9OOtdh9tNIRYfZ55oyhgKEihaQQgSMyR0qu9pgBQHwiszQDAqhARvyeQUhpcHlNKYNq/XJ+wyCDwuPqy4qcUEArmK6ztup8oWaQAjLLnvG3jFEb48BxICAwQFOQYDAzIHeGJ6FAp9Fk8FEpQACEoKC0cAVXaMS44TC5EdAQSdDRIJAQOLEwylGbFntba3uGxvVhNdCBhdSpYAZ1uwZycCBsvMzc7OPKISpL9cAUqAAAay2tegZLwSkNUWwRR8Cxbo30zSAHzkFU+oE0KqSAH37DvuB8gXQrJJOMNpgoB/+/iFAyCnIAVWxqrQe9TqBC1cGHMpNEaBVhoKY2d0keIowYUBCQ10YVD2rOWzaAsBCFFZoxQrmgeVVEq4i+SEKukq+DNGy8JQCQ988szwJKi1jwASxKsybMK2D4KWnjDgAgcGBgW8AgArFiUCmhKCDNikNYYLXAicUimAiASFCAA7)"
      ],
      "metadata": {
        "id": "QNyK7c0G5psM"
      }
    },
    {
      "cell_type": "code",
      "source": [
        "S_n = 0\n",
        "Serie_S_n = []\n",
        "Sequence_a_n = []\n",
        "\n",
        "for i in range(1, 11):\n",
        "    S_n += i**(2)\n",
        "    Serie_S_n.append(S_n)\n",
        "    Sequence_a_n.append(i**(2))\n",
        "\n",
        "print(S_n)\n",
        "\n",
        "plt.plot(Serie_S_n, color='blue',label='Serie_S_n')\n",
        "plt.plot(Sequence_a_n, color='yellow',label='Secuencia_a_n')\n",
        "plt.legend()"
      ],
      "metadata": {
        "colab": {
          "base_uri": "https://localhost:8080/",
          "height": 302
        },
        "id": "CzBWOs_j12YP",
        "outputId": "37919f68-df8b-4b51-c8a1-ebe38f0af281"
      },
      "execution_count": null,
      "outputs": [
        {
          "output_type": "stream",
          "name": "stdout",
          "text": [
            "385\n"
          ]
        },
        {
          "output_type": "execute_result",
          "data": {
            "text/plain": [
              "<matplotlib.legend.Legend at 0x7ffa3ab075d0>"
            ]
          },
          "metadata": {},
          "execution_count": 57
        },
        {
          "output_type": "display_data",
          "data": {
            "text/plain": [
              "<Figure size 432x288 with 1 Axes>"
            ],
            "image/png": "[encoded data removed]"
          },
          "metadata": {
            "needs_background": "light"
          }
        }
      ]
    },
    {
      "cell_type": "code",
      "source": [
        "print((1/6)*(2*(10**3)+3*(10**2)+10))"
      ],
      "metadata": {
        "colab": {
          "base_uri": "https://localhost:8080/"
        },
        "id": "Yskl0Dta2o6C",
        "outputId": "88532ebd-bfd5-4c7d-ac7b-f9f0c9a4fc98"
      },
      "execution_count": null,
      "outputs": [
        {
          "output_type": "stream",
          "name": "stdout",
          "text": [
            "385.0\n"
          ]
        }
      ]
    },
    {
      "cell_type": "markdown",
      "source": [
        "##Ejemplo 2 "
      ],
      "metadata": {
        "id": "hnwxd6VR4J2c"
      }
    },
    {
      "cell_type": "markdown",
      "source": [
        "![CodeCogsEqn (11).gif](data:image/gif;base64,R0lGODdhXwAWALMAAP///wAAANzc3FRUVDIyMkRERMzMzJiYmBAQECIiInZ2dmZmZu7u7qqqqoiIiLq6uiwAAAAAXwAWAAAE/hDISau9OOstVQrJ4HCTgJBoqnICcTCAMYAGSQRrrqdMIlSKQOCncQh3yKRl0bggAgSN4INTWpGnizHwyAwax6tYZRB2Kw+hAnM4lKvj+AYcGFjeiwujEAvL/3oECGcUaQEjFgM/bxYCAwQFRDIDBS6AcVuEEw9rfXATfAAICQAKCzAAYIiXVh9RFqGeFQ1NAB8DBxQMAVkbu0LAwcLDmiuGNRULyLIUsWoVvygCBtTV1tfXSR+rEwZ53X4Sdn294KSsSQuHF7ESjFoB3xRG8ug5B+sWCrXgnxQ3/CYAtKcjTa5G4yi8syAEVYlwBFEYQBCwmcN+F8C8ohAkoa9haSBDFttgohiDLr9CBuOnrhOFJ8gajKwwDZtNbCp6LNvEzQKdCx+KCQABKqIvAjsnKJg54Sc0iADwdeJkVAOBfbSyNnCAgAgbqGDauVvnqGqGAiqhJjMza9CFAwQGnDKbMS0UDAqeCOsaAQA7)"
      ],
      "metadata": {
        "id": "cm5JkLhY5sUu"
      }
    },
    {
      "cell_type": "code",
      "source": [
        "\n",
        "\n",
        "S_n = 0\n",
        "Serie_S_n = []\n",
        "Sequence_a_n = []\n",
        "\n",
        "for i in range(1, 25):\n",
        "    S_n += i**(4)\n",
        "    Serie_S_n.append(S_n)\n",
        "    Sequence_a_n.append(i**(4))\n",
        "\n",
        "print(S_n)\n",
        "\n",
        "plt.plot(Serie_S_n, color='blue',label='Serie_S_n')\n",
        "plt.plot(Sequence_a_n, color='yellow',label='Secuencia_a_n')\n",
        "plt.legend()"
      ],
      "metadata": {
        "colab": {
          "base_uri": "https://localhost:8080/",
          "height": 311
        },
        "id": "Gi4Fwd342-lk",
        "outputId": "bb32eb47-a2e5-47ac-fe9d-1da6f1c0b821"
      },
      "execution_count": null,
      "outputs": [
        {
          "output_type": "stream",
          "name": "stdout",
          "text": [
            "1763020\n"
          ]
        },
        {
          "output_type": "execute_result",
          "data": {
            "text/plain": [
              "<matplotlib.legend.Legend at 0x7ffa3a98ec90>"
            ]
          },
          "metadata": {},
          "execution_count": 62
        },
        {
          "output_type": "display_data",
          "data": {
            "text/plain": [
              "<Figure size 432x288 with 1 Axes>"
            ],
            "image/png": "[encoded data removed]"
          },
          "metadata": {
            "needs_background": "light"
          }
        }
      ]
    },
    {
      "cell_type": "code",
      "source": [
        "\n",
        "print((1/30)*(6*(24**5)+15*(24**4)+ 10*(24**3)-(24)))"
      ],
      "metadata": {
        "colab": {
          "base_uri": "https://localhost:8080/"
        },
        "id": "7U12hbzO3Ykl",
        "outputId": "67f1cebd-8231-4e33-d6d0-6d836dfed3b8"
      },
      "execution_count": null,
      "outputs": [
        {
          "output_type": "stream",
          "name": "stdout",
          "text": [
            "1763020.0\n"
          ]
        }
      ]
    }
  ]
}